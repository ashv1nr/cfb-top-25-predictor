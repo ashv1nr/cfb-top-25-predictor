{
 "cells": [
  {
   "cell_type": "markdown",
   "metadata": {
    "tags": []
   },
   "source": [
    "## Introduction\n",
    "The machine learning problem we are trying to solve is predicting the College Football Playoff Commitee's top 25 teams ranking. This matters beacuse th CFP Commitee's rankings are riddled with controversey year after year, as teams are constantly frustrated with their ranking. These rankings matter heavily, as they determine how prestigious of a bowl game teams play in, as well as who gets to compete for a national champsionship. There is very little information on what the commitee considers when they rank the teams, so our model could be used to give teams insight into what particular statistics the committe might value the most when they determine which teams should be ranked higher than others. Teams could then place emphasis on say making sure they have good passing offense or a positive turnover margin if the model shows teams who perform well in those categories are ranked well by the commitee.\n",
    "\n",
    "The dataset we are using we got from Kaggle at the following link: https://shorturl.at/glT68\n",
    "\n",
    "It holds data on over a 140 statistical categories(our features) on all FBS teams(the best 130 or so teams in the country) for every year the College Playoff Committe has existed, which is from 2014 to the present. Examples of features in our dataset are total points scored, offensive yards per play, sacks, and many more. We have over 800 records in our dataset.\n",
    "\n"
   ]
  },
  {
   "cell_type": "markdown",
   "metadata": {},
   "source": [
    "## Data Cleaning"
   ]
  },
  {
   "cell_type": "code",
   "execution_count": 45,
   "metadata": {},
   "outputs": [],
   "source": [
    "first_year = 14 # the first dataset is from 2014\n",
    "num_years = 7 # the datasets go from 2014-2020\n",
    "df_dict = {} # holds individual dataframes for each year"
   ]
  },
  {
   "cell_type": "markdown",
   "metadata": {},
   "source": [
    "Load every dataset into a pandas dataframe and maps the year to its corresponding dataframe."
   ]
  },
  {
   "cell_type": "code",
   "execution_count": 46,
   "metadata": {},
   "outputs": [],
   "source": [
    "import pandas as pd"
   ]
  },
  {
   "cell_type": "code",
   "execution_count": 47,
   "metadata": {
    "id": "ikXrOv4BuZWb"
   },
   "outputs": [],
   "source": [
    "for year in range(first_year, first_year + num_years):\n",
    "    df = pd.read_csv(\"cfb\" + str(year) + \".csv\")\n",
    "    df_dict[year] = df"
   ]
  },
  {
   "cell_type": "markdown",
   "metadata": {},
   "source": [
    "Adds the year the datasets are from as a column in each dataframe. We will drop the year feature eventually, but it will be helpful when we feature engineer later after merging the dataframes into one big dataframe."
   ]
  },
  {
   "cell_type": "code",
   "execution_count": 48,
   "metadata": {},
   "outputs": [],
   "source": [
    "for year in range(first_year, first_year + num_years):\n",
    "    df = df_dict[year]\n",
    "    df['year'] = year"
   ]
  },
  {
   "cell_type": "markdown",
   "metadata": {},
   "source": [
    "There were some issues with the kick return data being in wrong columns in some datasets, so we swapped around the data and fixed some column name issues as well."
   ]
  },
  {
   "cell_type": "code",
   "execution_count": 49,
   "metadata": {},
   "outputs": [],
   "source": [
    "for year in range(first_year + 2, first_year + num_years):\n",
    "    df = df_dict[year]\n",
    "    temp_data = df['Avg.Yard.per.Kickoff.Return'].copy()\n",
    "    df['Avg.Yard.per.Kickoff.Return'] = df['...40']\n",
    "    df['...40'] = temp_data\n",
    "    temp_data = df['Kickoff.Return.Touchdowns'].copy()\n",
    "    df['Kickoff.Return.Touchdowns'] = df['...40']\n",
    "    df['...40'] = temp_data\n",
    "    temp_data = df['Kickoff.Return.Yards'].copy()\n",
    "    df['Kickoff.Return.Yards'] = df['...40']\n",
    "    df['extra column'] = temp_data\n",
    "    df = df.drop(columns='...40')"
   ]
  },
  {
   "cell_type": "markdown",
   "metadata": {},
   "source": [
    "Merges each individual dataframe into one big dataframe."
   ]
  },
  {
   "cell_type": "code",
   "execution_count": 50,
   "metadata": {},
   "outputs": [],
   "source": [
    "key_set = sorted(list(df_dict.keys()))\n",
    "while len(key_set) > 1:\n",
    "  df0 = df_dict[key_set[0]]\n",
    "  df1 = df_dict[key_set[1]]\n",
    "  shared_columns = df0.columns.intersection(df1.columns)\n",
    "  df0 = df0.loc[:, shared_columns]\n",
    "  df1 = df1.loc[:, shared_columns]\n",
    "  df0 = pd.concat([df0, df1], ignore_index=True)\n",
    "  df_dict[key_set[0]] = df0\n",
    "  key_set.remove(key_set[1])\n",
    "df = df_dict[14] # our one big dataframe after merging"
   ]
  },
  {
   "cell_type": "markdown",
   "metadata": {},
   "source": [
    "There are two University of Miami's in our datasets. One in Florida and another in Ohio. We wanted to strip the parentheses off the location to help for a later step which also deals with parsing info out of parentheses."
   ]
  },
  {
   "cell_type": "code",
   "execution_count": 51,
   "metadata": {
    "id": "vJYqoDPdepsb"
   },
   "outputs": [],
   "source": [
    "df['Team'] = df['Team'].str.replace('Miami \\(FL\\)', 'Miami FL', regex=True)\n",
    "df['Team'] = df['Team'].str.replace('Miami \\(OH\\)', 'Miami OH', regex=True)"
   ]
  },
  {
   "cell_type": "markdown",
   "metadata": {},
   "source": [
    "The datasets mistakenly mixed up the data for two features. Data for the number of 4th down attempts a team had was placed under the feature for the number of 4th down conversions that team had and vice versa. So we need to swap the data to the correct columns."
   ]
  },
  {
   "cell_type": "code",
   "execution_count": 52,
   "metadata": {},
   "outputs": [],
   "source": [
    "temp_data = df['X4th.Attempts'].copy()\n",
    "df['X4th.Attempts'] = df['X4th.Conversions']\n",
    "df['X4th.Conversions'] = temp_data"
   ]
  },
  {
   "cell_type": "markdown",
   "metadata": {},
   "source": [
    "We have features that express how much time a team in on offense during the game, but we need to convert the data to seconds."
   ]
  },
  {
   "cell_type": "code",
   "execution_count": 53,
   "metadata": {},
   "outputs": [],
   "source": [
    "def convert_time(str_time):\n",
    "    minutes, seconds = str_time.split(':')\n",
    "    return (int(minutes) * 60) + int(seconds)\n",
    "\n",
    "df['Time.of.Possession'] = df['Time.of.Possession'].apply(lambda x: convert_time(x))\n",
    "df['Average.Time.of.Possession.per.Game'] = df['Average.Time.of.Possession.per.Game'].apply(lambda x: convert_time(x))"
   ]
  },
  {
   "cell_type": "markdown",
   "metadata": {},
   "source": [
    "## Initial Data Exporation"
   ]
  },
  {
   "cell_type": "markdown",
   "metadata": {},
   "source": [
    "We wanted to examine if the notion on college football becoming more offensive is actually true. Offensive yards per game and total touchdowns are good measures of offensive productivity, so we can graph the yearly averages of these features."
   ]
  },
  {
   "cell_type": "code",
   "execution_count": 54,
   "metadata": {},
   "outputs": [],
   "source": [
    "import matplotlib.pyplot as plt"
   ]
  },
  {
   "cell_type": "code",
   "execution_count": 55,
   "metadata": {},
   "outputs": [
    {
     "data": {
      "image/png": "[encoded data removed]",
      "text/plain": [
       "<Figure size 432x288 with 1 Axes>"
      ]
     },
     "metadata": {
      "needs_background": "light"
     },
     "output_type": "display_data"
    },
    {
     "data": {
      "image/png": "[encoded data removed]",
      "text/plain": [
       "<Figure size 432x288 with 1 Axes>"
      ]
     },
     "metadata": {
      "needs_background": "light"
     },
     "output_type": "display_data"
    }
   ],
   "source": [
    "data = df.groupby('year')['Off.Yards.per.Game'].mean()\n",
    "data.plot(kind='bar')\n",
    "plt.xlabel('year')\n",
    "plt.ylabel('average offensive yards per game')\n",
    "plt.show()\n",
    "data = df.groupby('year')['Points.Per.Game'].mean()\n",
    "data.plot(kind='bar')\n",
    "plt.xlabel('year')\n",
    "plt.ylabel('average points per game')\n",
    "plt.show()"
   ]
  },
  {
   "cell_type": "markdown",
   "metadata": {},
   "source": [
    "We were also curious in validating on if passing is becoming more prominent and the value of rushing is fading. Pass yards per game and rush yards per game can give us a good idea on this topic."
   ]
  },
  {
   "cell_type": "code",
   "execution_count": 56,
   "metadata": {},
   "outputs": [
    {
     "data": {
      "image/png": "[encoded data removed]",
      "text/plain": [
       "<Figure size 432x288 with 1 Axes>"
      ]
     },
     "metadata": {
      "needs_background": "light"
     },
     "output_type": "display_data"
    }
   ],
   "source": [
    "data = df.groupby('year')[['Pass.Yards.Per.Game', 'Rushing.Yards.per.Game']].mean()\n",
    "data.plot(kind='bar', stacked=True)\n",
    "plt.xlabel('year?')\n",
    "plt.ylabel('distribution of total yards')\n",
    "plt.legend(loc='upper left', bbox_to_anchor=(1, 1))\n",
    "plt.show()"
   ]
  },
  {
   "cell_type": "markdown",
   "metadata": {},
   "source": [
    "Staying with the theme on if teams are becoming more aggressive offensively, we can analyze the average amount of 4th down attempts teams are taking each year. The dramatic drop in 2020 is due to Covid-19 impacting the number of games many teams played that year."
   ]
  },
  {
   "cell_type": "code",
   "execution_count": 57,
   "metadata": {},
   "outputs": [
    {
     "data": {
      "image/png": "[encoded data removed]",
      "text/plain": [
       "<Figure size 432x288 with 1 Axes>"
      ]
     },
     "metadata": {
      "needs_background": "light"
     },
     "output_type": "display_data"
    }
   ],
   "source": [
    "data = df.groupby('year')['X4th.Attempts'].mean()\n",
    "data.plot(kind='line')\n",
    "plt.xlabel('year?')\n",
    "plt.ylabel('average 4th down attempts')\n",
    "plt.show()"
   ]
  },
  {
   "cell_type": "markdown",
   "metadata": {},
   "source": [
    "Concern for players' health is a growing trend in sports nowdays. Defense is where players exhaust alot of energy, so we were interested if there is any trend in the number of defensive snaps teams are taking each year. The dramatic drop in 2020 is due to Covid-19 impacting the number of games many teams played that year."
   ]
  },
  {
   "cell_type": "code",
   "execution_count": 58,
   "metadata": {},
   "outputs": [
    {
     "data": {
      "image/png": "[encoded data removed]",
      "text/plain": [
       "<Figure size 432x288 with 1 Axes>"
      ]
     },
     "metadata": {
      "needs_background": "light"
     },
     "output_type": "display_data"
    }
   ],
   "source": [
    "data = df.groupby('year')['Def.Plays'].mean()\n",
    "data.plot(kind='line')\n",
    "plt.xlabel('year?')\n",
    "plt.ylabel('average defensive plays')\n",
    "plt.show()"
   ]
  },
  {
   "cell_type": "markdown",
   "metadata": {},
   "source": [
    "There has also been a movement to protect the quarterback more, which has led to tackles on the quarterback sometimes being ruled a penalty instead of a sack for the defense. We can graph the yearly averages of penalty yards per game and sacks per game to see if its true that penalties are increasing due to new rules, resulting in less sacks for the defense, or if the extent of that is overblown."
   ]
  },
  {
   "cell_type": "code",
   "execution_count": 59,
   "metadata": {},
   "outputs": [
    {
     "data": {
      "image/png": "[encoded data removed]",
      "text/plain": [
       "<Figure size 432x288 with 1 Axes>"
      ]
     },
     "metadata": {
      "needs_background": "light"
     },
     "output_type": "display_data"
    },
    {
     "data": {
      "image/png": "[encoded data removed]",
      "text/plain": [
       "<Figure size 432x288 with 1 Axes>"
      ]
     },
     "metadata": {
      "needs_background": "light"
     },
     "output_type": "display_data"
    }
   ],
   "source": [
    "data = df.groupby('year')['Penalty.Yards.Per.Game'].mean()\n",
    "data.plot(kind='line')\n",
    "plt.xlabel('year')\n",
    "plt.ylabel('average penalty yards per game')\n",
    "plt.show()\n",
    "data = df.groupby('year')['Average.Sacks.per.Game'].mean()\n",
    "data.plot(kind='line')\n",
    "plt.xlabel('year')\n",
    "plt.ylabel('average sacks per game')\n",
    "plt.show()"
   ]
  },
  {
   "cell_type": "markdown",
   "metadata": {},
   "source": [
    "Also staying on the topic of health, there have been rules put in place to deincentivize teams from trying to return kickoffs as they can be one of the most dangerous plays in football due to players running full speed at each other from oppositie sides of the field. We wanted to examine if there is an observable decrease following these new rules."
   ]
  },
  {
   "cell_type": "code",
   "execution_count": 60,
   "metadata": {},
   "outputs": [
    {
     "data": {
      "image/png": "[encoded data removed]",
      "text/plain": [
       "<Figure size 432x288 with 1 Axes>"
      ]
     },
     "metadata": {
      "needs_background": "light"
     },
     "output_type": "display_data"
    },
    {
     "data": {
      "text/plain": [
       "Text(0, 0.5, 'average kickoffs returned')"
      ]
     },
     "execution_count": 60,
     "metadata": {},
     "output_type": "execute_result"
    },
    {
     "data": {
      "image/png": "[encoded data removed]",
      "text/plain": [
       "<Figure size 432x288 with 1 Axes>"
      ]
     },
     "metadata": {
      "needs_background": "light"
     },
     "output_type": "display_data"
    }
   ],
   "source": [
    "data = df.groupby('year')['Kickoff.Return.Yards'].mean()\n",
    "data.plot(kind='line')\n",
    "plt.xlabel('year')\n",
    "plt.ylabel('average kick return yeards')\n",
    "plt.show()\n",
    "data = df.groupby('year')['Kickoffs.Returned'].mean()\n",
    "data.plot(kind='line')\n",
    "plt.xlabel('year')\n",
    "plt.ylabel('average kickoffs returned')"
   ]
  },
  {
   "cell_type": "markdown",
   "metadata": {},
   "source": [
    "## Feature Engineering"
   ]
  },
  {
   "cell_type": "markdown",
   "metadata": {},
   "source": [
    "There are features that record the number of pass attempts and and pass completions a team had. We can make a completion percentage feature out of this to express the odds a pass will be succesfully completed when a team chooses to throw. \n",
    "\n",
    "We will drop the number of completions since we now have this completion percentage feature, but we will keep the number of pass attempts a team has since that describes their play style, which could determine how successful they are."
   ]
  },
  {
   "cell_type": "code",
   "execution_count": 61,
   "metadata": {},
   "outputs": [],
   "source": [
    "df['complt perct'] = df['Pass.Completions'] / df['Pass.Attempts']\n",
    "df = df.drop(columns='Pass.Completions')"
   ]
  },
  {
   "cell_type": "markdown",
   "metadata": {},
   "source": [
    "There are features that record the number of pass attempts faced and and pass completions allowed a team had. We can make an opponent completion percentage feature out of this to express the odds a pass will be succesfully completed against this team when they face a pass.\n",
    "\n",
    "We will drop the number of completions allowed since we now have this opponent completion percentage feature, but we will keep the number of pass attempts a team faces since that describes how opponents play against this team, which could determine how successful they are."
   ]
  },
  {
   "cell_type": "code",
   "execution_count": 62,
   "metadata": {},
   "outputs": [],
   "source": [
    "df['opp complt perct'] = df['Opp.Completions.Allowed'] / df['Opp.Pass.Attempts']\n",
    "df = df.drop(columns='Opp.Completions.Allowed')"
   ]
  },
  {
   "cell_type": "markdown",
   "metadata": {},
   "source": [
    "The best teams when they are in the redzone(the last 20 yards before the endzone) score touchdowns(6 points) when they are that close opposed to settling for field goals(3 points) or not scoring at all. We can make a feature that expresses how often a team scores a touchdown when they are in the redzone. \n",
    "\n",
    "We will keep the amount of redzone attempts feature beacuse that tells us how many times a team gets into a close scoring poistion, which can say alot about how good or bad a team is."
   ]
  },
  {
   "cell_type": "code",
   "execution_count": 63,
   "metadata": {},
   "outputs": [],
   "source": [
    "df['redzone td perct'] = (df['Redzone.Rush.TD'] + df['Redzone.Pass.TD']) / df['Redzone.Attempts']"
   ]
  },
  {
   "cell_type": "markdown",
   "metadata": {},
   "source": [
    "It is important to also know on what percentage of trips to the redzone a team settles for a field goal, so we can create a feature for that.\n",
    "\n",
    "We can then drop the feature for the number of redzone field goals a team made after creating our redzone filed goal percentage feature."
   ]
  },
  {
   "cell_type": "code",
   "execution_count": 64,
   "metadata": {},
   "outputs": [],
   "source": [
    "df['redzone fg perct'] = df['Redzone.Field.Goals.Made'] / df['Redzone.Attempts']\n",
    "df = df.drop(columns='Redzone.Field.Goals.Made')"
   ]
  },
  {
   "cell_type": "markdown",
   "metadata": {},
   "source": [
    "We can then lastly make a feature to express the percentage of trips to the redzone a teams fails to score using the features we created above."
   ]
  },
  {
   "cell_type": "code",
   "execution_count": 65,
   "metadata": {},
   "outputs": [],
   "source": [
    "df['redzone empty perct'] = 1 - df['redzone td perct'] - df['redzone fg perct']"
   ]
  },
  {
   "cell_type": "markdown",
   "metadata": {},
   "source": [
    "We can apply all the same logic above to create features for the opponents redzone statistis which can give us an idea of how good this teams' redzone defense is and if they can force their opponent into settling for field goals instead of scoring touchdowns."
   ]
  },
  {
   "cell_type": "code",
   "execution_count": 66,
   "metadata": {},
   "outputs": [],
   "source": [
    "df['opp redzone td perct'] = (df['Opp.Redzone.Rush.TD.Allowed'] + df['Opp.Redzone.Pass.Touchdowns.Allowed']) / df['Opp.Redzone.Attempts']\n",
    "df['opp redzone fg perct'] = df['Opp.Redzone.Field.Goals.Made'] / df['Opp.Redzone.Attempts']\n",
    "df = df.drop(columns='Opp.Redzone.Field.Goals.Made')\n",
    "df['opp redzone empty perct'] = 1 - df['opp redzone td perct'] - df['opp redzone fg perct']"
   ]
  },
  {
   "cell_type": "markdown",
   "metadata": {},
   "source": [
    "Big plays are very critical to have as an offense and limit as a defense in football. We can create features expressing for a team the number of touchdowns they scored and allowed outside the redzone(scores of over 20 yards).\n",
    "\n",
    "We can subsequently drop the amount of redzone rush and pass touchdowns a team has had and allowed after creating the redzone touchdown percentage feature above and this non redzone touhchdown feature below."
   ]
  },
  {
   "cell_type": "code",
   "execution_count": 67,
   "metadata": {},
   "outputs": [],
   "source": [
    "df['non redzone td'] = df['Off.TDs'] - (df['Redzone.Rush.TD'] + df['Redzone.Pass.TD'])\n",
    "df['non redzone td allowed'] = df['Off.TDs.Allowed'] - (df['Opp.Redzone.Rush.TD.Allowed'] + df['Opp.Redzone.Pass.Touchdowns.Allowed'])\n",
    "columns_to_drop = ['Redzone.Rush.TD', 'Redzone.Pass.TD', 'Opp.Redzone.Rush.TD.Allowed', 'Opp.Redzone.Pass.Touchdowns.Allowed']\n",
    "df = df.drop(columns=columns_to_drop)"
   ]
  },
  {
   "cell_type": "markdown",
   "metadata": {},
   "source": [
    "The number of games teams play can vary based on if they qualified for their conference championship or not, and during the Covid-19 pandemic, some conferences played a drastically different amount of games than others. For these reasons, it would make more sense to use win percentage rather than just number of wins in our model.\n",
    "\n",
    "We can subsequently drop the number of wins, lossess, and games played from our dataframe after creating our win percentage feature."
   ]
  },
  {
   "cell_type": "code",
   "execution_count": 68,
   "metadata": {
    "id": "wukLabE8HmLP"
   },
   "outputs": [],
   "source": [
    "df['win perct'] = df['Win'] / df['Games']\n",
    "columns_to_drop = ['Win', 'Loss', 'Games']\n",
    "df = df.drop(columns=columns_to_drop)"
   ]
  },
  {
   "cell_type": "markdown",
   "metadata": {},
   "source": [
    "The conference a team is plays a big role in how the commitee ranks them. Most of the games teams play are against teams in the same conference, and some conferences have historically had higher performing teams. As a result, teams in these more elite conferences often have harder schedules, and thus it is critical to take into consideration the conference a team plays in when ranking them.\n",
    "\n",
    "In our datasets, the conference is not its own feature, it is attached to the feature for the team's name. Hence, we parse the conference from the team's name and add a column for the conference the team is in.\n",
    "\n",
    "After we parse the conference from the team name feature and create the conference feature, we can remove the conference from the team name."
   ]
  },
  {
   "cell_type": "code",
   "execution_count": 69,
   "metadata": {
    "id": "U15jotVuN-Bz"
   },
   "outputs": [],
   "source": [
    "df['conference'] = df['Team'].apply(lambda x: x[x.find('(') + 1: x.find(')')] if '(' in x and ')' in x else x)\n",
    "df['Team'] = df['Team'].apply(lambda x: x[:x.find('(')] if '(' in x else x)\n",
    "df['Team'] = df['Team'].str[:-1]"
   ]
  },
  {
   "cell_type": "markdown",
   "metadata": {},
   "source": [
    "There were a couple individual records with missing/wrong conferences, so we manually set the teams' conference to its correct one."
   ]
  },
  {
   "cell_type": "code",
   "execution_count": 70,
   "metadata": {
    "id": "XdiGPrZ3qQKe"
   },
   "outputs": [],
   "source": [
    "df.loc[df['conference'] == 'Independent', 'conference'] = 'FBS Independent'\n",
    "df.loc[(df['conference'] == '') & (df['Team'] == 'Ole Miss'), 'conference'] = 'SEC'\n",
    "df.loc[(df['conference'] == '') & (df['Team'] == 'Pittsburgh'), 'conference'] = 'ACC'"
   ]
  },
  {
   "cell_type": "markdown",
   "metadata": {},
   "source": [
    "Our class label is if the team was ranked in the top 25 or not for the given year, so we utilize the lists below to add a column which holds a 1 if the team was ranked in the top 25 that year and a 0 if not.\n",
    "\n",
    "After we create the feature that says if a team was in the top 25 or not for the given year, we can drop the year column, as well as drop the name of the team since we don't want the name of a team to be impacting our model."
   ]
  },
  {
   "cell_type": "code",
   "execution_count": 71,
   "metadata": {
    "id": "85JMF9n9T_Rw"
   },
   "outputs": [],
   "source": [
    "# lists of the CFP Commitee's top 25 ranking each year\n",
    "\n",
    "top25_14 = ['Alabama', 'Oregon', 'Florida St.', 'Ohio St.', 'Baylor',\n",
    "            'TCU', 'Mississippi St.', 'Michigan St.', 'Ole Miss', 'Arizona',\n",
    "            'Kansas St.', 'Georgia Tech', 'Georgia', 'UCLA', 'Arizona St.',\n",
    "            'Missouri', 'Clemson', 'Wisconsin', 'Auburn', 'Boise St.',\n",
    "            'Louisville', 'Utah', 'LSU', 'Southern California', 'Minnesota'] # top 25 from 2014\n",
    "\n",
    "top25_15 = ['Clemson', 'Alabama', 'Michigan St.', 'Oklahoma', 'Iowa',\n",
    "            'Stanford', 'Ohio St.', 'Notre Dame', 'Florida St.', 'North Carolina',\n",
    "            'TCU', 'Ole Miss', 'Northwestern', 'Michigan', 'Oregon',\n",
    "            'Oklahoma St.', 'Baylor', 'Houston', 'Florida', 'LSU',\n",
    "            'Navy', 'Utah', 'Tennessee', 'Temple', 'Southern California'] # top 25 from 2015\n",
    "\n",
    "top25_16 = ['Alabama', 'Clemson', 'Ohio St.', 'Washington', 'Penn St.',\n",
    "            'Michigan', 'Oklahoma', 'Wisconsin', 'Southern California', 'Colorado',\n",
    "            'Florida St.', 'Oklahoma St.', 'Louisville', 'Auburn', 'Western Mich.',\n",
    "            'West Virginia', 'Florida', 'Stanford', 'Utah', 'LSU',\n",
    "            'Tennessee', 'Virginia Tech', 'Pittsburgh', 'Temple', 'Navy'] # top 25 from 2016\n",
    "\n",
    "top25_17 = ['Clemson', 'Oklahoma', 'Georgia', 'Alabama', 'Ohio St.',\n",
    "            'Wisconsin', 'Auburn', 'Southern California', 'Penn St.', 'Miami FL',\n",
    "            'Washington', 'UCF', 'Stanford', 'Notre Dame', 'TCU',\n",
    "            'Michigan St.', 'LSU', 'Washington St.', 'Oklahoma St.', 'Memphis',\n",
    "            'Northwestern', 'Virginia Tech', 'Mississippi St.', 'NC State', 'Boise St.'] # top 25 from 2017\n",
    "\n",
    "top25_18 = ['Alabama', 'Clemson', 'Notre Dame', 'Oklahoma', 'Georgia',\n",
    "            'Ohio St.', 'Michigan', 'UCF', 'Washington', 'Florida',\n",
    "            'LSU', 'Penn St.', 'Washington St.', 'Kentucky', 'Texas',\n",
    "            'West Virginia', 'Utah', 'Mississippi St.', 'Texas A&M', 'Syracuse',\n",
    "            'Fresno St.', 'Northwestern', 'Missouri', 'Iowa St.', 'Boise St.'] # top 25 from 2018\n",
    "\n",
    "top25_19 = ['LSU', 'Ohio St.', 'Clemson', 'Oklahoma', 'Georgia',\n",
    "            'Oregon', 'Baylor', 'Wisconsin', 'Florida', 'Penn St.',\n",
    "            'Utah', 'Auburn', 'Alabama', 'Michigan', 'Notre Dame',\n",
    "            'Iowa', 'Memphis', 'Minnesota', 'Boise St.', 'Appalachian St.',\n",
    "            'Cincinnati', 'Southern California', 'Navy', 'Virginia', 'Oklahoma St.'] # top 25 from 2019\n",
    "\n",
    "top25_20 = ['Alabama', 'Clemson', 'Ohio St.', 'Notre Dame', 'Texas A&M',\n",
    "            'Oklahoma', 'Florida', 'Cincinnati', 'Georgia', 'Iowa St.',\n",
    "            'Indiana', 'Coastal Carolina', 'North Carolina', 'Northwestern', 'Iowa',\n",
    "            'BYU', 'Southern California', 'Miami FL', 'Louisiana', 'Texas',\n",
    "            'Oklahoma St.', 'San Jose St.', 'NC State', 'Tulsa', 'Oregon'] # top 25 from 2020\n",
    "\n",
    "top25_dict = {14: top25_14, 15: top25_15, 16: top25_16, 17: top25_17, 18: top25_18,\n",
    "              19: top25_19, 20: top25_20} # dictionary to be able to grab rankings for a desired year\n",
    "\n",
    "df['top 25'] = df.apply(lambda row: 1 if row['Team'] in top25_dict.get(row['year'], []) else 0, axis=1)\n",
    "df = df.drop(columns='year')\n",
    "df = df.drop(columns='Team')"
   ]
  },
  {
   "cell_type": "markdown",
   "metadata": {},
   "source": [
    "The below features are being dropped beacause there is already a feature in our dataframe that is a calculation of these features."
   ]
  },
  {
   "cell_type": "code",
   "execution_count": 72,
   "metadata": {},
   "outputs": [],
   "source": [
    "columns_to_drop = ['Off.Plays', 'Def.Plays', 'X4th.Conversions', 'Opp.4th.Conversion',\n",
    "                   'Kickoffs.Returned', 'Kickoff.Return.Yards', 'Punt.Returns', 'Net.Punt.Return.Yards',\n",
    "                   'Opp.Punt.Returns', 'Opp.Net.Punt.Return.Yards', 'Redzone.Points', 'Redzone.Points.Allowed',\n",
    "                   'X3rd.Attempts', 'X3rd.Conversions', 'Opp.3rd.Attempt', 'Opp.3rd.Conversion']\n",
    "df = df.drop(columns=columns_to_drop)"
   ]
  },
  {
   "cell_type": "markdown",
   "metadata": {},
   "source": [
    "## Additional Data Exploration"
   ]
  },
  {
   "cell_type": "markdown",
   "metadata": {},
   "source": [
    "To show why we would want to have a feature that says what conference a team is in, the below plot displays the distribution of ranked teams based on what conference they are in. As we can see, teams in the top 25 primarily come from a couple conferences."
   ]
  },
  {
   "cell_type": "code",
   "execution_count": 73,
   "metadata": {},
   "outputs": [
    {
     "data": {
      "image/png": "[encoded data removed]",
      "text/plain": [
       "<Figure size 432x288 with 1 Axes>"
      ]
     },
     "metadata": {
      "needs_background": "light"
     },
     "output_type": "display_data"
    }
   ],
   "source": [
    "data = df.groupby('conference')['top 25'].sum()\n",
    "data = data.sort_values(ascending=False)\n",
    "data.plot(kind='bar')\n",
    "plt.xlabel('conference')\n",
    "plt.ylabel('number of teams in top 25 from 2014-2020')\n",
    "plt.show()"
   ]
  },
  {
   "cell_type": "markdown",
   "metadata": {},
   "source": [
    "This analysis of conferences can be taken further by looking at the distribution of the top 25 based on conference to see on average what proportion of ranked teams come from each conference."
   ]
  },
  {
   "cell_type": "code",
   "execution_count": 74,
   "metadata": {},
   "outputs": [
    {
     "data": {
      "image/png": "[encoded data removed]",
      "text/plain": [
       "<Figure size 432x288 with 1 Axes>"
      ]
     },
     "metadata": {},
     "output_type": "display_data"
    }
   ],
   "source": [
    "data = df.groupby('conference')['top 25'].sum()\n",
    "data = data.sort_values(ascending=False)\n",
    "data = data / num_years\n",
    "data.plot(kind='pie')\n",
    "plt.title('proportion of the top 25 that is made up by each conference on average')\n",
    "plt.show()"
   ]
  },
  {
   "cell_type": "markdown",
   "metadata": {},
   "source": [
    "An important feature we engineered was the percentage of time a team scores a touchdown when they are in the redzone. We can see the difference in the performance in the redzone for winning teams versus losing teams below."
   ]
  },
  {
   "cell_type": "code",
   "execution_count": 75,
   "metadata": {},
   "outputs": [
    {
     "data": {
      "image/png": "[encoded data removed]",
      "text/plain": [
       "<Figure size 432x288 with 1 Axes>"
      ]
     },
     "metadata": {
      "needs_background": "light"
     },
     "output_type": "display_data"
    }
   ],
   "source": [
    "sorted_df = df.sort_values(by='redzone td perct')\n",
    "window_size = 20\n",
    "sorted_df['redzone td perct'] = sorted_df['redzone td perct'].rolling(window=window_size).mean()\n",
    "sorted_df['win perct'] = sorted_df['win perct'].rolling(window=window_size).mean()\n",
    "sorted_df.plot(x='redzone td perct', y='win perct')\n",
    "plt.xlabel('redzone touchdown percentage')\n",
    "plt.ylabel('win percentage')\n",
    "plt.show()"
   ]
  },
  {
   "cell_type": "markdown",
   "metadata": {},
   "source": [
    "One of the most talked-about statistics in the media is the turnover margin. The turnover margin is the difference between the number of times a team took the ball away from their opponent and the number of times they gave the ball to their opponent. Good teams are known to have positive turnover margins, and we wanted to confirm that by plotting the average turnover margin for ranked teams versus those teams not in the top 25."
   ]
  },
  {
   "cell_type": "code",
   "execution_count": 76,
   "metadata": {},
   "outputs": [
    {
     "data": {
      "image/png": "[encoded data removed]",
      "text/plain": [
       "<Figure size 432x288 with 1 Axes>"
      ]
     },
     "metadata": {
      "needs_background": "light"
     },
     "output_type": "display_data"
    }
   ],
   "source": [
    "data = df.groupby('top 25')['Turnover.Margin'].mean()\n",
    "data.plot(kind='bar')\n",
    "plt.xlabel('top 25?')\n",
    "plt.ylabel('avg turnover margin')\n",
    "plt.show()"
   ]
  },
  {
   "cell_type": "markdown",
   "metadata": {},
   "source": [
    "## Modeling"
   ]
  },
  {
   "cell_type": "markdown",
   "metadata": {},
   "source": [
    "Before we begin building models, we need to ensure that the conference is one hot encoded (since it's a categorical). As seen in our data exploration, conferences are very helpful in determining if a team will end up being ranked. This is because teams in the Power 5 conferences(SEC, Big 10, Big 12, ACC, and PAC 12) have a much higher likelihood of being ranked due to percieved strength of the conferences."
   ]
  },
  {
   "cell_type": "code",
   "execution_count": 77,
   "metadata": {},
   "outputs": [
    {
     "data": {
      "text/html": [
       "<div>\n",
       "<style scoped>\n",
       "    .dataframe tbody tr th:only-of-type {\n",
       "        vertical-align: middle;\n",
       "    }\n",
       "\n",
       "    .dataframe tbody tr th {\n",
       "        vertical-align: top;\n",
       "    }\n",
       "\n",
       "    .dataframe thead th {\n",
       "        text-align: right;\n",
       "    }\n",
       "</style>\n",
       "<table border=\"1\" class=\"dataframe\">\n",
       "  <thead>\n",
       "    <tr style=\"text-align: right;\">\n",
       "      <th></th>\n",
       "      <th>Off.Rank</th>\n",
       "      <th>Off.Yards</th>\n",
       "      <th>Off.Yards.Play</th>\n",
       "      <th>Off.TDs</th>\n",
       "      <th>Off.Yards.per.Game</th>\n",
       "      <th>Def.Rank</th>\n",
       "      <th>Yards.Allowed</th>\n",
       "      <th>Yards.Play.Allowed</th>\n",
       "      <th>Off.TDs.Allowed</th>\n",
       "      <th>Total.TDs.Allowed</th>\n",
       "      <th>...</th>\n",
       "      <th>Big 12</th>\n",
       "      <th>Big Ten</th>\n",
       "      <th>C-USA</th>\n",
       "      <th>FBS Independent</th>\n",
       "      <th>MAC</th>\n",
       "      <th>MWC</th>\n",
       "      <th>Mountain West</th>\n",
       "      <th>Pac-12</th>\n",
       "      <th>SEC</th>\n",
       "      <th>Sun Belt</th>\n",
       "    </tr>\n",
       "  </thead>\n",
       "  <tbody>\n",
       "    <tr>\n",
       "      <th>0</th>\n",
       "      <td>88</td>\n",
       "      <td>4479</td>\n",
       "      <td>5.03</td>\n",
       "      <td>32</td>\n",
       "      <td>373.3</td>\n",
       "      <td>44</td>\n",
       "      <td>4453</td>\n",
       "      <td>5.18</td>\n",
       "      <td>34</td>\n",
       "      <td>35</td>\n",
       "      <td>...</td>\n",
       "      <td>0</td>\n",
       "      <td>0</td>\n",
       "      <td>0</td>\n",
       "      <td>0</td>\n",
       "      <td>1</td>\n",
       "      <td>0</td>\n",
       "      <td>0</td>\n",
       "      <td>0</td>\n",
       "      <td>0</td>\n",
       "      <td>0</td>\n",
       "    </tr>\n",
       "    <tr>\n",
       "      <th>1</th>\n",
       "      <td>17</td>\n",
       "      <td>6783</td>\n",
       "      <td>6.66</td>\n",
       "      <td>67</td>\n",
       "      <td>484.5</td>\n",
       "      <td>12</td>\n",
       "      <td>4598</td>\n",
       "      <td>4.87</td>\n",
       "      <td>24</td>\n",
       "      <td>27</td>\n",
       "      <td>...</td>\n",
       "      <td>0</td>\n",
       "      <td>0</td>\n",
       "      <td>0</td>\n",
       "      <td>0</td>\n",
       "      <td>0</td>\n",
       "      <td>0</td>\n",
       "      <td>0</td>\n",
       "      <td>0</td>\n",
       "      <td>1</td>\n",
       "      <td>0</td>\n",
       "    </tr>\n",
       "    <tr>\n",
       "      <th>2</th>\n",
       "      <td>25</td>\n",
       "      <td>6491</td>\n",
       "      <td>5.70</td>\n",
       "      <td>55</td>\n",
       "      <td>463.6</td>\n",
       "      <td>103</td>\n",
       "      <td>6314</td>\n",
       "      <td>5.66</td>\n",
       "      <td>47</td>\n",
       "      <td>49</td>\n",
       "      <td>...</td>\n",
       "      <td>0</td>\n",
       "      <td>0</td>\n",
       "      <td>0</td>\n",
       "      <td>0</td>\n",
       "      <td>0</td>\n",
       "      <td>0</td>\n",
       "      <td>0</td>\n",
       "      <td>1</td>\n",
       "      <td>0</td>\n",
       "      <td>0</td>\n",
       "    </tr>\n",
       "    <tr>\n",
       "      <th>3</th>\n",
       "      <td>34</td>\n",
       "      <td>5750</td>\n",
       "      <td>5.90</td>\n",
       "      <td>54</td>\n",
       "      <td>442.3</td>\n",
       "      <td>81</td>\n",
       "      <td>5422</td>\n",
       "      <td>5.62</td>\n",
       "      <td>39</td>\n",
       "      <td>46</td>\n",
       "      <td>...</td>\n",
       "      <td>0</td>\n",
       "      <td>0</td>\n",
       "      <td>0</td>\n",
       "      <td>0</td>\n",
       "      <td>0</td>\n",
       "      <td>0</td>\n",
       "      <td>0</td>\n",
       "      <td>1</td>\n",
       "      <td>0</td>\n",
       "      <td>0</td>\n",
       "    </tr>\n",
       "    <tr>\n",
       "      <th>4</th>\n",
       "      <td>60</td>\n",
       "      <td>5278</td>\n",
       "      <td>5.76</td>\n",
       "      <td>52</td>\n",
       "      <td>406.0</td>\n",
       "      <td>10</td>\n",
       "      <td>4204</td>\n",
       "      <td>5.12</td>\n",
       "      <td>30</td>\n",
       "      <td>33</td>\n",
       "      <td>...</td>\n",
       "      <td>0</td>\n",
       "      <td>0</td>\n",
       "      <td>0</td>\n",
       "      <td>0</td>\n",
       "      <td>0</td>\n",
       "      <td>0</td>\n",
       "      <td>0</td>\n",
       "      <td>0</td>\n",
       "      <td>1</td>\n",
       "      <td>0</td>\n",
       "    </tr>\n",
       "    <tr>\n",
       "      <th>...</th>\n",
       "      <td>...</td>\n",
       "      <td>...</td>\n",
       "      <td>...</td>\n",
       "      <td>...</td>\n",
       "      <td>...</td>\n",
       "      <td>...</td>\n",
       "      <td>...</td>\n",
       "      <td>...</td>\n",
       "      <td>...</td>\n",
       "      <td>...</td>\n",
       "      <td>...</td>\n",
       "      <td>...</td>\n",
       "      <td>...</td>\n",
       "      <td>...</td>\n",
       "      <td>...</td>\n",
       "      <td>...</td>\n",
       "      <td>...</td>\n",
       "      <td>...</td>\n",
       "      <td>...</td>\n",
       "      <td>...</td>\n",
       "      <td>...</td>\n",
       "    </tr>\n",
       "    <tr>\n",
       "      <th>854</th>\n",
       "      <td>42</td>\n",
       "      <td>3804</td>\n",
       "      <td>5.51</td>\n",
       "      <td>28</td>\n",
       "      <td>422.7</td>\n",
       "      <td>5</td>\n",
       "      <td>2675</td>\n",
       "      <td>4.77</td>\n",
       "      <td>20</td>\n",
       "      <td>23</td>\n",
       "      <td>...</td>\n",
       "      <td>1</td>\n",
       "      <td>0</td>\n",
       "      <td>0</td>\n",
       "      <td>0</td>\n",
       "      <td>0</td>\n",
       "      <td>0</td>\n",
       "      <td>0</td>\n",
       "      <td>0</td>\n",
       "      <td>0</td>\n",
       "      <td>0</td>\n",
       "    </tr>\n",
       "    <tr>\n",
       "      <th>855</th>\n",
       "      <td>120</td>\n",
       "      <td>3200</td>\n",
       "      <td>4.58</td>\n",
       "      <td>21</td>\n",
       "      <td>290.9</td>\n",
       "      <td>21</td>\n",
       "      <td>3700</td>\n",
       "      <td>4.99</td>\n",
       "      <td>31</td>\n",
       "      <td>34</td>\n",
       "      <td>...</td>\n",
       "      <td>0</td>\n",
       "      <td>0</td>\n",
       "      <td>1</td>\n",
       "      <td>0</td>\n",
       "      <td>0</td>\n",
       "      <td>0</td>\n",
       "      <td>0</td>\n",
       "      <td>0</td>\n",
       "      <td>0</td>\n",
       "      <td>0</td>\n",
       "    </tr>\n",
       "    <tr>\n",
       "      <th>856</th>\n",
       "      <td>15</td>\n",
       "      <td>2878</td>\n",
       "      <td>7.34</td>\n",
       "      <td>32</td>\n",
       "      <td>479.7</td>\n",
       "      <td>60</td>\n",
       "      <td>2398</td>\n",
       "      <td>5.60</td>\n",
       "      <td>25</td>\n",
       "      <td>25</td>\n",
       "      <td>...</td>\n",
       "      <td>0</td>\n",
       "      <td>0</td>\n",
       "      <td>0</td>\n",
       "      <td>0</td>\n",
       "      <td>1</td>\n",
       "      <td>0</td>\n",
       "      <td>0</td>\n",
       "      <td>0</td>\n",
       "      <td>0</td>\n",
       "      <td>0</td>\n",
       "    </tr>\n",
       "    <tr>\n",
       "      <th>857</th>\n",
       "      <td>93</td>\n",
       "      <td>2153</td>\n",
       "      <td>5.00</td>\n",
       "      <td>17</td>\n",
       "      <td>358.8</td>\n",
       "      <td>1</td>\n",
       "      <td>1581</td>\n",
       "      <td>4.76</td>\n",
       "      <td>10</td>\n",
       "      <td>11</td>\n",
       "      <td>...</td>\n",
       "      <td>0</td>\n",
       "      <td>1</td>\n",
       "      <td>0</td>\n",
       "      <td>0</td>\n",
       "      <td>0</td>\n",
       "      <td>0</td>\n",
       "      <td>0</td>\n",
       "      <td>0</td>\n",
       "      <td>0</td>\n",
       "      <td>0</td>\n",
       "    </tr>\n",
       "    <tr>\n",
       "      <th>858</th>\n",
       "      <td>82</td>\n",
       "      <td>2237</td>\n",
       "      <td>5.47</td>\n",
       "      <td>17</td>\n",
       "      <td>372.8</td>\n",
       "      <td>16</td>\n",
       "      <td>1968</td>\n",
       "      <td>4.93</td>\n",
       "      <td>15</td>\n",
       "      <td>16</td>\n",
       "      <td>...</td>\n",
       "      <td>0</td>\n",
       "      <td>0</td>\n",
       "      <td>0</td>\n",
       "      <td>0</td>\n",
       "      <td>0</td>\n",
       "      <td>0</td>\n",
       "      <td>1</td>\n",
       "      <td>0</td>\n",
       "      <td>0</td>\n",
       "      <td>0</td>\n",
       "    </tr>\n",
       "  </tbody>\n",
       "</table>\n",
       "<p>859 rows × 141 columns</p>\n",
       "</div>"
      ],
      "text/plain": [
       "     Off.Rank  Off.Yards  Off.Yards.Play  Off.TDs  Off.Yards.per.Game  \\\n",
       "0          88       4479            5.03       32               373.3   \n",
       "1          17       6783            6.66       67               484.5   \n",
       "2          25       6491            5.70       55               463.6   \n",
       "3          34       5750            5.90       54               442.3   \n",
       "4          60       5278            5.76       52               406.0   \n",
       "..        ...        ...             ...      ...                 ...   \n",
       "854        42       3804            5.51       28               422.7   \n",
       "855       120       3200            4.58       21               290.9   \n",
       "856        15       2878            7.34       32               479.7   \n",
       "857        93       2153            5.00       17               358.8   \n",
       "858        82       2237            5.47       17               372.8   \n",
       "\n",
       "     Def.Rank  Yards.Allowed  Yards.Play.Allowed  Off.TDs.Allowed  \\\n",
       "0          44           4453                5.18               34   \n",
       "1          12           4598                4.87               24   \n",
       "2         103           6314                5.66               47   \n",
       "3          81           5422                5.62               39   \n",
       "4          10           4204                5.12               30   \n",
       "..        ...            ...                 ...              ...   \n",
       "854         5           2675                4.77               20   \n",
       "855        21           3700                4.99               31   \n",
       "856        60           2398                5.60               25   \n",
       "857         1           1581                4.76               10   \n",
       "858        16           1968                4.93               15   \n",
       "\n",
       "     Total.TDs.Allowed  ...  Big 12  Big Ten  C-USA  FBS Independent  MAC  \\\n",
       "0                   35  ...       0        0      0                0    1   \n",
       "1                   27  ...       0        0      0                0    0   \n",
       "2                   49  ...       0        0      0                0    0   \n",
       "3                   46  ...       0        0      0                0    0   \n",
       "4                   33  ...       0        0      0                0    0   \n",
       "..                 ...  ...     ...      ...    ...              ...  ...   \n",
       "854                 23  ...       1        0      0                0    0   \n",
       "855                 34  ...       0        0      1                0    0   \n",
       "856                 25  ...       0        0      0                0    1   \n",
       "857                 11  ...       0        1      0                0    0   \n",
       "858                 16  ...       0        0      0                0    0   \n",
       "\n",
       "     MWC  Mountain West  Pac-12  SEC  Sun Belt  \n",
       "0      0              0       0    0         0  \n",
       "1      0              0       0    1         0  \n",
       "2      0              0       1    0         0  \n",
       "3      0              0       1    0         0  \n",
       "4      0              0       0    1         0  \n",
       "..   ...            ...     ...  ...       ...  \n",
       "854    0              0       0    0         0  \n",
       "855    0              0       0    0         0  \n",
       "856    0              0       0    0         0  \n",
       "857    0              0       0    0         0  \n",
       "858    0              1       0    0         0  \n",
       "\n",
       "[859 rows x 141 columns]"
      ]
     },
     "execution_count": 77,
     "metadata": {},
     "output_type": "execute_result"
    }
   ],
   "source": [
    "model_df = df.copy(deep=True)\n",
    "one_hot = pd.get_dummies(model_df['conference'])\n",
    "one_hot = one_hot.astype('int')\n",
    "model_df = model_df.drop(columns='conference')\n",
    "model_df.join(one_hot)"
   ]
  },
  {
   "cell_type": "markdown",
   "metadata": {},
   "source": [
    "We also must seperate our features from our class labels before we start modeling."
   ]
  },
  {
   "cell_type": "code",
   "execution_count": 78,
   "metadata": {},
   "outputs": [],
   "source": [
    "features = model_df.drop(columns='top 25')\n",
    "labels = model_df['top 25'].values.ravel()"
   ]
  },
  {
   "cell_type": "code",
   "execution_count": 79,
   "metadata": {},
   "outputs": [],
   "source": [
    "from sklearn.preprocessing import StandardScaler\n",
    "from sklearn.decomposition import PCA\n",
    "from sklearn.model_selection import cross_val_score\n",
    "from sklearn.model_selection import cross_val_predict\n",
    "from sklearn.metrics import confusion_matrix, classification_report, roc_curve\n",
    "from sklearn.model_selection import GridSearchCV\n",
    "from sklearn.pipeline import Pipeline"
   ]
  },
  {
   "cell_type": "code",
   "execution_count": 100,
   "metadata": {},
   "outputs": [],
   "source": [
    "def generate_statistics(model, features, labels, folds, linear_regressor):\n",
    "    scores = cross_val_score(model, features, labels, cv = folds)\n",
    "    print(\"Average accuracy:\", scores.mean() * 100, \"%\")\n",
    "    predictions = cross_val_predict(model, features, labels, cv = folds)\n",
    "    binary_predictions = []\n",
    "    for i in predictions:\n",
    "        if(abs(i) > .5):\n",
    "            binary_predictions.append(1)\n",
    "        else:\n",
    "            binary_predictions.append(0)\n",
    "    \n",
    "    if(linear_regressor):\n",
    "        print(confusion_matrix(labels, binary_predictions))\n",
    "        print(classification_report(labels, binary_predictions))\n",
    "    else:\n",
    "        print(confusion_matrix(labels, predictions))\n",
    "        print(classification_report(labels, predictions))\n",
    "\n",
    "\n",
    "def generate_roc_curve(model, features, labels):\n",
    "    model.fit(features, labels)\n",
    "    predictions = model.predict_proba(features)\n",
    "\n",
    "    # #replace these fpr and tpr with the results of your roc_curve\n",
    "    fpr, tpr, _ = roc_curve(labels, predictions[:,1])\n",
    "\n",
    "    # Do not change this code! This plots the ROC curve.\n",
    "    # Just replace the fpr and tpr above with the values from your roc_curve\n",
    "    plt.plot([0,1],[0,1],'k--') #plot the diagonal line\n",
    "    plt.plot(fpr, tpr, label='NB') #plot the ROC curve\n",
    "    plt.xlabel('fpr')\n",
    "    plt.ylabel('tpr')\n",
    "    plt.title('ROC Curve Decision Trees')\n",
    "    plt.show()"
   ]
  },
  {
   "cell_type": "markdown",
   "metadata": {},
   "source": [
    "Decision Trees"
   ]
  },
  {
   "cell_type": "code",
   "execution_count": 109,
   "metadata": {},
   "outputs": [],
   "source": [
    "from sklearn.tree import DecisionTreeClassifier\n",
    "\n",
    "clf = DecisionTreeClassifier()\n",
    "tree_pipe = Pipeline(steps=[('pca', PCA()), ('clf', clf)])\n",
    "param_grid = {'pca__n_components': list(range(5, 19)), 'clf__max_depth': [5, 10, 15, 20], 'clf__min_samples_leaf': [5, 10, 15, 20], 'clf__max_features': [5, 10, 15]}\n",
    "grid_search_tree = GridSearchCV(tree_pipe, param_grid, cv=5, scoring='accuracy')\n",
    "grid_search_tree.fit(features, labels)\n",
    "generate_statistics(grid_search_tree, features, labels, 5, False)\n",
    "# generate_roc_curve(grid_search_tree, features, labels)"
   ]
  },
  {
   "cell_type": "markdown",
   "metadata": {},
   "source": [
    "Naive Bayes"
   ]
  },
  {
   "cell_type": "code",
   "execution_count": 103,
   "metadata": {},
   "outputs": [
    {
     "name": "stdout",
     "output_type": "stream",
     "text": [
      "Average accuracy: 81.02872777017784 %\n",
      "[[549 136]\n",
      " [ 27 147]]\n",
      "              precision    recall  f1-score   support\n",
      "\n",
      "           0       0.95      0.80      0.87       685\n",
      "           1       0.52      0.84      0.64       174\n",
      "\n",
      "    accuracy                           0.81       859\n",
      "   macro avg       0.74      0.82      0.76       859\n",
      "weighted avg       0.87      0.81      0.82       859\n",
      "\n"
     ]
    },
    {
     "data": {
      "image/png": "[encoded data removed]",
      "text/plain": [
       "<Figure size 432x288 with 1 Axes>"
      ]
     },
     "metadata": {
      "needs_background": "light"
     },
     "output_type": "display_data"
    }
   ],
   "source": [
    "from sklearn.naive_bayes import GaussianNB\n",
    "\n",
    "gnb = GaussianNB()\n",
    "generate_statistics(gnb, features, labels, 10, False)\n",
    "generate_roc_curve(gnb, features, labels)"
   ]
  },
  {
   "cell_type": "markdown",
   "metadata": {},
   "source": [
    "KNN"
   ]
  },
  {
   "cell_type": "code",
   "execution_count": null,
   "metadata": {},
   "outputs": [
    {
     "name": "stdout",
     "output_type": "stream",
     "text": [
      "Nested CV accuracy: 85.56371549027608 %\n"
     ]
    },
    {
     "data": {
      "image/png": "[encoded data removed]",
      "text/plain": [
       "<Figure size 432x288 with 1 Axes>"
      ]
     },
     "metadata": {
      "needs_background": "light"
     },
     "output_type": "display_data"
    }
   ],
   "source": [
    "from sklearn.neighbors import KNeighborsClassifier\n",
    "from sklearn.model_selection import KFold\n",
    "\n",
    "\n",
    "\n",
    "k_pl = Pipeline(steps=[('scaler', StandardScaler()), ('pca', PCA()), ('knn', KNeighborsClassifier())])\n",
    "param_grid = {'pca__n_components': list(range(5, 19)), 'knn__n_neighbors': list(range(1, 25))}\n",
    "\n",
    "gr_sch = GridSearchCV(k_pl, param_grid, cv = 5)\n",
    "gr_sch.fit(features, labels)\n",
    "outer_loop = KFold(n_splits = 5, shuffle = True, random_state = 21)\n",
    "nested_scores = cross_val_score(gr_sch, features, labels, cv = outer_loop)\n",
    "accuracy = nested_scores.mean()\n",
    "print(\"Nested CV accuracy:\", accuracy * 100, \"%\")\n",
    "\n",
    "# gr_sch.fit(features, labels)\n",
    "# predictions = gr_sch.predict_proba(features)\n",
    "\n",
    "# # #replace these fpr and tpr with the results of your roc_curve\n",
    "# fpr, tpr, _ = roc_curve(labels, predictions[:,1])\n",
    "\n",
    "# # Do not change this code! This plots the ROC curve.\n",
    "# # Just replace the fpr and tpr above with the values from your roc_curve\n",
    "# plt.plot([0,1],[0,1],'k--') #plot the diagonal line\n",
    "# plt.plot(fpr, tpr, label='NB') #plot the ROC curve\n",
    "# plt.xlabel('fpr')\n",
    "# plt.ylabel('tpr')\n",
    "# plt.title('ROC Curve KNN')\n",
    "# plt.show()"
   ]
  },
  {
   "cell_type": "markdown",
   "metadata": {},
   "source": [
    "SVM"
   ]
  },
  {
   "cell_type": "code",
   "execution_count": null,
   "metadata": {},
   "outputs": [
    {
     "name": "stdout",
     "output_type": "stream",
     "text": [
      "Accuracy: 86.84278525771794 %\n"
     ]
    }
   ],
   "source": [
    "from sklearn.model_selection import cross_val_predict\n",
    "from sklearn.svm import SVC\n",
    "\n",
    "svm_pl = Pipeline([('scaler', StandardScaler()), ('svc', SVC())])\n",
    "prm_grd = { 'svc__C': [0.1, 1, 10, 100], 'svc__kernel': ['linear', 'rbf', 'poly']}\n",
    "gr_sch = GridSearchCV(svm_pl, prm_grd, cv = 5)\n",
    "predictions = cross_val_predict(gr_sch, features, labels, cv = outer_loop)\n",
    "accuracy = cross_val_score(gr_sch, features, labels, cv = 5, scoring = 'accuracy').mean()\n",
    "print(\"Accuracy:\", accuracy * 100, \"%\")"
   ]
  },
  {
   "cell_type": "markdown",
   "metadata": {},
   "source": [
    "Neural Nets"
   ]
  },
  {
   "cell_type": "code",
   "execution_count": null,
   "metadata": {},
   "outputs": [
    {
     "name": "stdout",
     "output_type": "stream",
     "text": [
      "Accuracy: 87.890656874745 %\n"
     ]
    }
   ],
   "source": [
    "from sklearn.utils._testing import ignore_warnings\n",
    "from sklearn.exceptions import ConvergenceWarning\n",
    "from sklearn.neural_network import MLPClassifier\n",
    "\n",
    "@ignore_warnings(category=ConvergenceWarning)\n",
    "def run_nn():\n",
    "    pl = Pipeline([('scaler', StandardScaler()), ('mlp', MLPClassifier(max_iter = 1000, random_state = 21))])\n",
    "    prm_grd = {'mlp__hidden_layer_sizes': [(30,), (40,), (50,), (60,), (70,), (80, ), (90, ), (100, )], 'mlp__activation': ['logistic', 'tanh', 'relu']}\n",
    "    grid_search = GridSearchCV(pl, prm_grd, cv=5)\n",
    "    accuracy = cross_val_score(grid_search, features, labels, cv = 5, scoring = 'accuracy').mean()\n",
    "    print(\"Accuracy:\", accuracy * 100, \"%\")\n",
    "  \n",
    "\n",
    "run_nn()"
   ]
  },
  {
   "cell_type": "markdown",
   "metadata": {},
   "source": [
    "Random Forest Ensemble"
   ]
  },
  {
   "cell_type": "code",
   "execution_count": null,
   "metadata": {},
   "outputs": [
    {
     "name": "stdout",
     "output_type": "stream",
     "text": [
      "              precision    recall  f1-score   support\n",
      "\n",
      "           0       0.89      0.95      0.92       685\n",
      "           1       0.75      0.53      0.62       174\n",
      "\n",
      "    accuracy                           0.87       859\n",
      "   macro avg       0.82      0.74      0.77       859\n",
      "weighted avg       0.86      0.87      0.86       859\n",
      "\n"
     ]
    }
   ],
   "source": [
    "from sklearn.ensemble import RandomForestClassifier\n",
    "from sklearn.metrics import classification_report\n",
    "\n",
    "\n",
    "rf_clf = RandomForestClassifier(random_state = 21)\n",
    "prm_grd = {'n_estimators': [50, 100, 150]}\n",
    "grd_sch = GridSearchCV(rf_clf, prm_grd, cv = 5)\n",
    "predictions = cross_val_predict(grd_sch, features, labels, cv = 5)\n",
    "cls_rpt = classification_report(labels, predictions)\n",
    "print(cls_rpt)"
   ]
  },
  {
   "cell_type": "code",
   "execution_count": 91,
   "metadata": {},
   "outputs": [
    {
     "name": "stdout",
     "output_type": "stream",
     "text": [
      "Accuracy: 85.10063919488641 %\n",
      "              precision    recall  f1-score   support\n",
      "\n",
      "           0       0.86      0.95      0.90       685\n",
      "           1       0.68      0.39      0.49       174\n",
      "\n",
      "    accuracy                           0.84       859\n",
      "   macro avg       0.77      0.67      0.70       859\n",
      "weighted avg       0.82      0.84      0.82       859\n",
      "\n"
     ]
    },
    {
     "data": {
      "image/png": "[encoded data removed]",
      "text/plain": [
       "<Figure size 432x288 with 1 Axes>"
      ]
     },
     "metadata": {
      "needs_background": "light"
     },
     "output_type": "display_data"
    }
   ],
   "source": [
    "from sklearn.linear_model import ElasticNet\n",
    "@ignore_warnings(category=ConvergenceWarning)\n",
    "def run_elastic_net():\n",
    "    prm_grd = {'l1_ratio': [0, .1, .2, .3, .4, .5, .6, .7, .8, .9, 1]}\n",
    "    model = ElasticNet()\n",
    "    grd_sch = GridSearchCV(model, prm_grd, cv = 5)\n",
    "    accuracy = cross_val_score(grid_search, features, labels, cv = 5, scoring = 'accuracy').mean()\n",
    "    print(\"Accuracy:\", accuracy * 100, \"%\")\n",
    "    predictions = cross_val_predict(grd_sch, features, labels, cv = 5)\n",
    "    binary_predictions = []\n",
    "    for i in predictions:\n",
    "        if(abs(i) > .5):\n",
    "            binary_predictions.append(1)\n",
    "        else:\n",
    "            binary_predictions.append(0)\n",
    "    \n",
    "    cls_rpt = classification_report(labels, binary_predictions)\n",
    "    print(cls_rpt)\n",
    "    grd_sch.fit(features, labels)\n",
    "    predictions = grid_search.predict_proba(features)\n",
    "    # #replace these fpr and tpr with the results of your roc_curve\n",
    "    fpr, tpr, _ = roc_curve(labels, predictions[:,1])\n",
    "\n",
    "    # Do not change this code! This plots the ROC curve.\n",
    "    # Just replace the fpr and tpr above with the values from your roc_curve\n",
    "    plt.plot([0,1],[0,1],'k--') #plot the diagonal line\n",
    "    plt.plot(fpr, tpr, label='NB') #plot the ROC curve\n",
    "    plt.xlabel('fpr')\n",
    "    plt.ylabel('tpr')\n",
    "    plt.title('ROC Curve Elastic Net')\n",
    "    plt.show()\n",
    "    \n",
    "\n",
    "run_elastic_net()"
   ]
  },
  {
   "cell_type": "markdown",
   "metadata": {},
   "source": [
    "## Results"
   ]
  }
 ],
 "metadata": {
  "colab": {
   "provenance": []
  },
  "kernelspec": {
   "display_name": "Python 3 (ipykernel)",
   "language": "python",
   "name": "python3"
  },
  "language_info": {
   "codemirror_mode": {
    "name": "ipython",
    "version": 3
   },
   "file_extension": ".py",
   "mimetype": "text/x-python",
   "name": "python",
   "nbconvert_exporter": "python",
   "pygments_lexer": "ipython3",
   "version": "3.9.12"
  }
 },
 "nbformat": 4,
 "nbformat_minor": 1
}
